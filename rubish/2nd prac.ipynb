{
 "cells": [
  {
   "cell_type": "code",
   "execution_count": 2,
   "metadata": {
    "collapsed": true,
    "pycharm": {
     "name": "#%%\n"
    }
   },
   "outputs": [
    {
     "name": "stdout",
     "output_type": "stream",
     "text": [
      "0 a - a 1\n",
      "1 b - b 2\n",
      "2 c - c 3\n",
      "3 c - c 4\n",
      "4 c - c 2\n",
      "5 b - b 1\n",
      "6 a - a 3\n",
      "7 c - c 4\n",
      "8 a - a 5\n",
      "9 a - a 6\n",
      "10 b - b 5\n",
      "11 c - c 4\n",
      "12 b - b 3\n",
      "13 a - a 2\n"
     ]
    }
   ],
   "source": [
    "A = [ 1,   2,   3,   4,   2,   1,   3,   4,   5,   6,   5,   4,   3,   2]\n",
    "B = ['a', 'b', 'c', 'c', 'c', 'b', 'a', 'c', 'a', 'a', 'b', 'c', 'b', 'a']\n",
    "\n",
    "for i, j in enumerate(B):\n",
    "    print(i, j, '-', B[i], A[i])"
   ]
  },
  {
   "cell_type": "code",
   "execution_count": 3,
   "outputs": [
    {
     "ename": "TypeError",
     "evalue": "unsupported operand type(s) for +=: 'builtin_function_or_method' and 'list'",
     "output_type": "error",
     "traceback": [
      "\u001B[0;31m---------------------------------------------------------------------------\u001B[0m",
      "\u001B[0;31mTypeError\u001B[0m                                 Traceback (most recent call last)",
      "Input \u001B[0;32mIn [3]\u001B[0m, in \u001B[0;36m<cell line: 8>\u001B[0;34m()\u001B[0m\n\u001B[1;32m     10\u001B[0m         bsort\u001B[38;5;241m.\u001B[39mappend(i)\u001B[38;5;66;03m#(A[i])\u001B[39;00m\n\u001B[1;32m     11\u001B[0m         \u001B[38;5;28;01mfor\u001B[39;00m jindex, j \u001B[38;5;129;01min\u001B[39;00m \u001B[38;5;28menumerate\u001B[39m(A):\n\u001B[0;32m---> 12\u001B[0m             \u001B[38;5;28msum\u001B[39m \u001B[38;5;241m+\u001B[39m\u001B[38;5;241m=\u001B[39m A\n\u001B[1;32m     13\u001B[0m \u001B[38;5;28mprint\u001B[39m(bsort)\n\u001B[1;32m     14\u001B[0m perem \u001B[38;5;241m=\u001B[39m \u001B[38;5;241m0\u001B[39m\n",
      "\u001B[0;31mTypeError\u001B[0m: unsupported operand type(s) for +=: 'builtin_function_or_method' and 'list'"
     ]
    }
   ],
   "source": [
    "A = [ 1,   2,   3,   4,   2,   1,   3,   4,   5,   6,   5,   4,   3,   2]\n",
    "B = ['a', 'b', 'c', 'c', 'c', 'b', 'a', 'c', 'a', 'a', 'b', 'c', 'b', 'a']\n",
    "\n",
    "result = {}\n",
    "asort = []\n",
    "bsort = []\n",
    "positoins = []\n",
    "for index, i in enumerate(B):\n",
    "    if i not in bsort:\n",
    "        bsort.append(i)#(A[i])\n",
    "        for jindex, j in enumerate(A):\n",
    "            sum += A\n",
    "print(bsort)\n",
    "perem = 0\n",
    "for jndex, j in enumerate(B):\n",
    "\n",
    "    for index, i in enumerate(bsort):\n",
    "        if i == j:\n",
    "            perem += A[jndex]\n",
    "    positoins.append(perem)\n",
    "\n",
    "print(positoins)"
   ],
   "metadata": {
    "collapsed": false,
    "pycharm": {
     "name": "#%%\n"
    }
   }
  }
 ],
 "metadata": {
  "kernelspec": {
   "display_name": "Python 3",
   "language": "python",
   "name": "python3"
  },
  "language_info": {
   "codemirror_mode": {
    "name": "ipython",
    "version": 2
   },
   "file_extension": ".py",
   "mimetype": "text/x-python",
   "name": "python",
   "nbconvert_exporter": "python",
   "pygments_lexer": "ipython2",
   "version": "2.7.6"
  }
 },
 "nbformat": 4,
 "nbformat_minor": 0
}