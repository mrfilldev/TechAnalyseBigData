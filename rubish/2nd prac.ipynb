{
 "cells": [
  {
   "cell_type": "code",
   "execution_count": 2,
   "outputs": [
    {
     "name": "stdout",
     "output_type": "stream",
     "text": [
      "0 a - a 1\n",
      "1 b - b 2\n",
      "2 c - c 3\n",
      "3 c - c 4\n",
      "4 c - c 2\n",
      "5 b - b 1\n",
      "6 a - a 3\n",
      "7 c - c 4\n",
      "8 a - a 5\n",
      "9 a - a 6\n",
      "10 b - b 5\n",
      "11 c - c 4\n",
      "12 b - b 3\n",
      "13 a - a 2\n"
     ]
    }
   ],
   "source": [],
   "metadata": {
    "collapsed": false,
    "pycharm": {
     "name": "#%%\n"
    }
   }
  }
 ],
 "metadata": {
  "kernelspec": {
   "display_name": "Python 3",
   "language": "python",
   "name": "python3"
  },
  "language_info": {
   "codemirror_mode": {
    "name": "ipython",
    "version": 2
   },
   "file_extension": ".py",
   "mimetype": "text/x-python",
   "name": "python",
   "nbconvert_exporter": "python",
   "pygments_lexer": "ipython2",
   "version": "2.7.6"
  }
 },
 "nbformat": 4,
 "nbformat_minor": 0
}