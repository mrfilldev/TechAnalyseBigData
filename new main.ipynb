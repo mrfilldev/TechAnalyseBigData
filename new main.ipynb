{
 "cells": [
  {
   "cell_type": "code",
   "execution_count": 14,
   "metadata": {
    "collapsed": true,
    "pycharm": {
     "name": "#%%\n"
    }
   },
   "outputs": [
    {
     "name": "stdout",
     "output_type": "stream",
     "text": [
      "Площадь прямоугольника: 9\n",
      "Площадь треугольника: 4.5\n",
      "Площадь круга: 28.26\n"
     ]
    }
   ],
   "source": [
    "import os\n",
    "\n",
    "\n",
    "def sqare():\n",
    "    a = int(input('Введите длину стороны \"А\" прямоугольника: '))\n",
    "    b = int(input('Введите длину стороны \"B\" прямоугольника: '))\n",
    "    ans = a * b\n",
    "    return ans\n",
    "\n",
    "\n",
    "def triangle():\n",
    "    a = int(input('Введите длину стороны \"А\" треугольника: '))\n",
    "    h = int(input('Введите длину высоты \"H\" треугольника: '))\n",
    "    ans = (a * h) / 2\n",
    "    return ans\n",
    "\n",
    "\n",
    "def circle():\n",
    "    r = int(input('Введите длину  радиуса \"R\" круга: '))\n",
    "    ans = 3.14 * r ** 2\n",
    "    return ans\n",
    "\n",
    "\n",
    "print(\"Площадь прямоугольника:\", sqare())\n",
    "print(\"Площадь треугольника:\", triangle())\n",
    "print(\"Площадь круга:\", circle())\n"
   ]
  },
  {
   "cell_type": "code",
   "execution_count": 23,
   "outputs": [
    {
     "name": "stdout",
     "output_type": "stream",
     "text": [
      "Результат операции  +   6\n"
     ]
    }
   ],
   "source": [
    "import os\n",
    "\n",
    "\n",
    "def plus(a, b):\n",
    "    return a + b\n",
    "\n",
    "\n",
    "def minus(a, b):\n",
    "    return a - b\n",
    "\n",
    "\n",
    "def division_remainder(a, b):\n",
    "    return a / b\n",
    "\n",
    "\n",
    "def division_without_remainder(a, b):\n",
    "    return a // b\n",
    "\n",
    "\n",
    "def abs(a, b):\n",
    "    return abs(minus(a, b))\n",
    "\n",
    "\n",
    "def pow_func(a, b):\n",
    "    return a ** b\n",
    "\n",
    "\n",
    "a = int(input('Введите первое число: '))\n",
    "b = int(input('Введите второе число: '))\n",
    "operation = str(input('Введите операцию над числами: '))\n",
    "\n",
    "\n",
    "def check_operation(operation):\n",
    "    if operation == '+':\n",
    "        return plus(a, b)\n",
    "    elif operation == '-':\n",
    "        return minus(a, b)\n",
    "    elif operation == '/':\n",
    "        return division_without_remainder(a, b)\n",
    "    elif operation == '//':\n",
    "        return division_remainder(a, b)\n",
    "    elif operation == '**':\n",
    "        return pow_func(a, b)\n",
    "\n",
    "\n",
    "print(\"Результат операции \", operation, \" \", check_operation(operation))"
   ],
   "metadata": {
    "collapsed": false,
    "pycharm": {
     "name": "#%%\n"
    }
   }
  },
  {
   "cell_type": "code",
   "execution_count": 27,
   "outputs": [
    {
     "name": "stdout",
     "output_type": "stream",
     "text": [
      "Результат формулы Герона:  6.0\n"
     ]
    }
   ],
   "source": [
    "def formula_gerona(a, b, c):\n",
    "\n",
    "    p = (a + b + c) / 2\n",
    "    ans = (p * (p - a) * (p - b) * (p - c)) ** (0.5)\n",
    "    return ans\n",
    "\n",
    "a = int(input('Введите первое число: '))\n",
    "b = int(input('Введите второе число: '))\n",
    "c = int(input('Введите третье число: '))\n",
    "print(\"Результат формулы Герона: \", formula_gerona(a, b, c))\n"
   ],
   "metadata": {
    "collapsed": false,
    "pycharm": {
     "name": "#%%\n"
    }
   }
  }
 ],
 "metadata": {
  "kernelspec": {
   "display_name": "Python 3",
   "language": "python",
   "name": "python3"
  },
  "language_info": {
   "codemirror_mode": {
    "name": "ipython",
    "version": 2
   },
   "file_extension": ".py",
   "mimetype": "text/x-python",
   "name": "python",
   "nbconvert_exporter": "python",
   "pygments_lexer": "ipython2",
   "version": "2.7.6"
  }
 },
 "nbformat": 4,
 "nbformat_minor": 0
}