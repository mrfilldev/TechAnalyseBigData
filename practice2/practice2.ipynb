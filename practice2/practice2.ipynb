{
 "cells": [
  {
   "cell_type": "code",
   "execution_count": 19,
   "metadata": {
    "collapsed": true,
    "pycharm": {
     "name": "#%%\n"
    }
   },
   "outputs": [
    {
     "name": "stdout",
     "output_type": "stream",
     "text": [
      "Ура, 0! \n",
      " Общая сумма квадратов всех введенных чисел: 3410\n"
     ]
    }
   ],
   "source": [
    "import os\n",
    "\n",
    "def count(a, sum):\n",
    "    return a + sum\n",
    "\n",
    "\n",
    "a = int(input('Введите число: '))\n",
    "arr = []\n",
    "result = 0\n",
    "average_sum = 0\n",
    "while True:\n",
    "    result = count(a, result)\n",
    "    arr.append(a)\n",
    "    if result == 0:\n",
    "        for i in arr:\n",
    "            average_sum += i**2\n",
    "        print(f\"Ура, 0! \\n Общая сумма квадратов всех введенных чисел: {average_sum}\")\n",
    "        break\n",
    "    a = int(input(f'Сумма равна: {result} \\n Введите число: '))\n",
    "    pass"
   ]
  },
  {
   "cell_type": "code",
   "execution_count": 22,
   "outputs": [
    {
     "name": "stdout",
     "output_type": "stream",
     "text": [
      "1 2 2 3 3 3 4 "
     ]
    }
   ],
   "source": [
    "k = int(input())\n",
    "chetcik = 0\n",
    "for i in range(k):\n",
    "    for j in range(i):\n",
    "        if chetcik == k:\n",
    "            break\n",
    "        else:\n",
    "            print(i,end=\" \")\n",
    "        chetcik += 1"
   ],
   "metadata": {
    "collapsed": false,
    "pycharm": {
     "name": "#%%\n"
    }
   }
  },
  {
   "cell_type": "code",
   "execution_count": 38,
   "outputs": [
    {
     "name": "stdout",
     "output_type": "stream",
     "text": [
      "0.13979910111463523 0.49733128686506645 0.5087088172760449 0.13409823598872128 0.45151516257475743 0.9273609200918408 0.013980079204080842 0.5296106328707336 0.19291345146683336\n"
     ]
    }
   ],
   "source": [
    "import numpy as np\n",
    "arr = np.random.rand(3, 3)\n",
    "#print(arr)\n",
    "l = []\n",
    "for i in range(len(arr)):\n",
    "    for j in range(len(arr[i])):\n",
    "        l.append(arr[i][j])\n",
    "print(*l)"
   ],
   "metadata": {
    "collapsed": false,
    "pycharm": {
     "name": "#%%\n"
    }
   }
  },
  {
   "cell_type": "code",
   "execution_count": null,
   "outputs": [],
   "source": [],
   "metadata": {
    "collapsed": false,
    "pycharm": {
     "name": "#%%\n"
    }
   }
  }
 ],
 "metadata": {
  "kernelspec": {
   "display_name": "Python 3",
   "language": "python",
   "name": "python3"
  },
  "language_info": {
   "codemirror_mode": {
    "name": "ipython",
    "version": 2
   },
   "file_extension": ".py",
   "mimetype": "text/x-python",
   "name": "python",
   "nbconvert_exporter": "python",
   "pygments_lexer": "ipython2",
   "version": "2.7.6"
  }
 },
 "nbformat": 4,
 "nbformat_minor": 0
}