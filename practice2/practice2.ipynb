{
 "cells": [
  {
   "cell_type": "code",
   "execution_count": 43,
   "metadata": {
    "collapsed": true,
    "pycharm": {
     "name": "#%%\n"
    }
   },
   "outputs": [
    {
     "name": "stdout",
     "output_type": "stream",
     "text": [
      "Ура, 0! \n",
      " Общая сумма квадратов всех введенных чисел: 280\n"
     ]
    }
   ],
   "source": [
    "#Входные данные: 1, 2, 3, 4, 5, -15\n",
    "\n",
    "def count(a, sum):\n",
    "    return a + sum\n",
    "\n",
    "\n",
    "a = int(input('Введите число: '))\n",
    "arr = []\n",
    "result = 0\n",
    "average_sum = 0\n",
    "while True:\n",
    "    result = count(a, result)\n",
    "    arr.append(a)\n",
    "    if result == 0:\n",
    "        for i in arr:\n",
    "            average_sum += i**2\n",
    "        print(f\"Ура, 0! \\n Общая сумма квадратов всех введенных чисел: {average_sum}\")\n",
    "        break\n",
    "    a = int(input(f'Сумма равна: {result} \\n Введите число: '))\n",
    "    pass\n",
    "\n",
    "#Выходные данные"
   ]
  },
  {
   "cell_type": "code",
   "execution_count": 44,
   "outputs": [
    {
     "name": "stdout",
     "output_type": "stream",
     "text": [
      "1 2 2 3 3 3 4 "
     ]
    }
   ],
   "source": [
    "#Входные данные: 7\n",
    "k = int(input())\n",
    "chetcik = 0\n",
    "for i in range(k):\n",
    "    for j in range(i):\n",
    "        if chetcik == k:\n",
    "            break\n",
    "        else:\n",
    "            print(i,end=\" \")\n",
    "        chetcik += 1\n",
    "\n",
    "#Выходные данные"
   ],
   "metadata": {
    "collapsed": false,
    "pycharm": {
     "name": "#%%\n"
    }
   }
  },
  {
   "cell_type": "code",
   "execution_count": 40,
   "outputs": [
    {
     "name": "stdout",
     "output_type": "stream",
     "text": [
      "[[0.17680127 0.02976646 0.24649541]\n",
      " [0.34262911 0.43217646 0.84887325]\n",
      " [0.4982652  0.49037654 0.06340642]]\n",
      "0.1768012691520956 0.02976646089597801 0.2464954080787305 0.34262911131308926 0.4321764587632134 0.8488732457987558 0.49826519654625656 0.4903765413596035 0.06340641546996306\n"
     ]
    }
   ],
   "source": [
    "#Входные данные: НЕТ\n",
    "\n",
    "import numpy as np\n",
    "arr = np.random.rand(3, 3)\n",
    "print(arr)\n",
    "l = []\n",
    "for i in range(len(arr)):\n",
    "    for j in range(len(arr[i])):\n",
    "        l.append(arr[i][j])\n",
    "print(*l)\n",
    "#Выходные данные"
   ],
   "metadata": {
    "collapsed": false,
    "pycharm": {
     "name": "#%%\n"
    }
   }
  },
  {
   "cell_type": "code",
   "execution_count": 40,
   "outputs": [
    {
     "name": "stdout",
     "output_type": "stream",
     "text": [
      "dict_items([('a', 17), ('b', 11), ('c', 17)])\n"
     ]
    }
   ],
   "source": [
    "#Входные данные:\n",
    "A = [ 1,   2,   3,   4,   2,   1,   3,   4,   5,   6,   5,   4,   3,   2]\n",
    "B = ['a', 'b', 'c', 'c', 'c', 'b', 'a', 'c', 'a', 'a', 'b', 'c', 'b', 'a']\n",
    "\n",
    "result = {}\n",
    "\n",
    "for index, i in enumerate(B):\n",
    "    if i not in result:\n",
    "        result[i] = A[index]\n",
    "    else:\n",
    "        result[i] += A[index]\n",
    "\n",
    "print(result.items())\n",
    "#Выходные данные"
   ],
   "metadata": {
    "collapsed": false,
    "pycharm": {
     "name": "#%%\n"
    }
   }
  },
  {
   "cell_type": "code",
   "execution_count": null,
   "outputs": [],
   "source": [],
   "metadata": {
    "collapsed": false,
    "pycharm": {
     "name": "#%%\n"
    }
   }
  }
 ],
 "metadata": {
  "kernelspec": {
   "display_name": "Python 3",
   "language": "python",
   "name": "python3"
  },
  "language_info": {
   "codemirror_mode": {
    "name": "ipython",
    "version": 2
   },
   "file_extension": ".py",
   "mimetype": "text/x-python",
   "name": "python",
   "nbconvert_exporter": "python",
   "pygments_lexer": "ipython2",
   "version": "2.7.6"
  }
 },
 "nbformat": 4,
 "nbformat_minor": 0
}